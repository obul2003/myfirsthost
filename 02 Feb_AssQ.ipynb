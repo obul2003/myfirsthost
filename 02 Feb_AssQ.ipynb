{
  "metadata": {
    "toc-autonumbering": true,
    "toc-showmarkdowntxt": true,
    "toc-showcode": true,
    "language_info": {
      "codemirror_mode": {
        "name": "python",
        "version": 3
      },
      "file_extension": ".py",
      "mimetype": "text/x-python",
      "name": "python",
      "nbconvert_exporter": "python",
      "pygments_lexer": "ipython3",
      "version": "3.8"
    },
    "kernelspec": {
      "name": "python",
      "display_name": "Python (Pyodide)",
      "language": "python"
    }
  },
  "nbformat_minor": 4,
  "nbformat": 4,
  "cells": [
    {
      "cell_type": "raw",
      "source": "Q1. What are the characteristics of the tuples? Is tuple immutable?",
      "metadata": {}
    },
    {
      "cell_type": "code",
      "source": " characteristics of tuple are,\n 1)Immutable:tuple is immutable,cannot delete or insert an  elements after creating.\n 2)Ordred:tuple stores the elements in order.\n 3)indexed:tuples are accsses using indexes\n yes,tuple is immutable.",
      "metadata": {},
      "execution_count": null,
      "outputs": []
    },
    {
      "cell_type": "code",
      "source": "Q2. What are the two tuple methods in python? Give an example of each method. Give a reason why \ntuples have only two in-built methods as compared to Lists.",
      "metadata": {},
      "execution_count": null,
      "outputs": []
    },
    {
      "cell_type": "code",
      "source": "tuple has mainly contains two metheds those are.\n1)tuplename.count(element) method:it takes the element as input and returns the number of accurance of element in yhe tuple.\n2)tuplename.index(element,startindex):it takes element ans start index as a input and returns index of accurance of element after the start index.",
      "metadata": {},
      "execution_count": null,
      "outputs": []
    },
    {
      "cell_type": "code",
      "source": "example for count() method:",
      "metadata": {},
      "execution_count": null,
      "outputs": []
    },
    {
      "cell_type": "code",
      "source": "t=(1,2,3,1)\nprint(t.count(1))",
      "metadata": {
        "trusted": true
      },
      "execution_count": 3,
      "outputs": [
        {
          "name": "stdout",
          "text": "2\n",
          "output_type": "stream"
        }
      ]
    },
    {
      "cell_type": "code",
      "source": "example for insert() method:",
      "metadata": {},
      "execution_count": null,
      "outputs": []
    },
    {
      "cell_type": "code",
      "source": "t=(1,2,3,4,5,1)\nprint(t.index(1,4))",
      "metadata": {
        "trusted": true
      },
      "execution_count": 4,
      "outputs": [
        {
          "name": "stdout",
          "text": "5\n",
          "output_type": "stream"
        }
      ]
    },
    {
      "cell_type": "code",
      "source": "as tuple is immutable data,it deos not have much methods as campare to list.",
      "metadata": {},
      "execution_count": null,
      "outputs": []
    },
    {
      "cell_type": "code",
      "source": "Q3.  Which collection datatypes in python do not allow duplicate items? Write a code using a set to remove \nduplicates from the given list.",
      "metadata": {},
      "execution_count": null,
      "outputs": []
    },
    {
      "cell_type": "code",
      "source": "set and dictionary do not allow the duplicates\n",
      "metadata": {},
      "execution_count": null,
      "outputs": []
    },
    {
      "cell_type": "code",
      "source": "List = [1, 1, 1, 2, 1, 3, 1, 4, 2, 1, 2, 2, 2, 3, 2, 4, 3, 1, 3, 2, 3, 3, 3, 4, 4, 1, 4, 2, 4, 3, 4, 4]\nb=set(List)\na=[]\nfor i in b:\n    a.append(i)\nprint(a)\n    ",
      "metadata": {
        "trusted": true
      },
      "execution_count": 25,
      "outputs": [
        {
          "name": "stdout",
          "text": "[1, 2, 3, 4]\n",
          "output_type": "stream"
        }
      ]
    },
    {
      "cell_type": "code",
      "source": "Q4. Explain the difference between the union() and update() methods for a set. Give an example of \neach method.",
      "metadata": {},
      "execution_count": null,
      "outputs": []
    },
    {
      "cell_type": "code",
      "source": "set union() is used to perform union oparation on two sets.it return the all uncommeon elements and all common elements\nat ones.\nupadete() method is used to add the elements into the set.it takes singel or multiple elements in any datatypes and add individual elementws into yhne set.",
      "metadata": {},
      "execution_count": null,
      "outputs": []
    },
    {
      "cell_type": "code",
      "source": "Q5. What is a dictionary? Give an example. Also, state whether a dictionary is ordered or unordered.",
      "metadata": {},
      "execution_count": null,
      "outputs": []
    },
    {
      "cell_type": "code",
      "source": "1)dictionary is a mutable and unorderd data structure,it stores the elements in the form of key value pair.\n2)dictionary is unorderd datatype,it uses the hashing technique to retrive the elements faster.therefore elements are not added in ordered form.",
      "metadata": {},
      "execution_count": null,
      "outputs": []
    },
    {
      "cell_type": "code",
      "source": "set1=set([1,2,3])\nset2={2,3,4}\nprint(set1 & set2)\nset1.update([4,5,6])\nprint(set1)",
      "metadata": {
        "trusted": true
      },
      "execution_count": 8,
      "outputs": [
        {
          "name": "stdout",
          "text": "{2, 3}\n{1, 2, 3, 4, 5, 6}\n",
          "output_type": "stream"
        }
      ]
    },
    {
      "cell_type": "code",
      "source": "Q6. Can we create a nested dictionary? If so, please give an example by creating a simple one-level \nnested dictionary",
      "metadata": {},
      "execution_count": null,
      "outputs": []
    },
    {
      "cell_type": "code",
      "source": "yes,we can create nested dictionary.",
      "metadata": {},
      "execution_count": null,
      "outputs": []
    },
    {
      "cell_type": "code",
      "source": "dict={'dict1':{'name':\"uday\"}}\nprint(dict)",
      "metadata": {
        "trusted": true
      },
      "execution_count": 9,
      "outputs": [
        {
          "name": "stdout",
          "text": "{'dict1': {'name': 'uday'}}\n",
          "output_type": "stream"
        }
      ]
    },
    {
      "cell_type": "code",
      "source": "Q7. Using setdefault() method, create key named topics in the given dictionary and also add the value of \nthe key as this\n",
      "metadata": {},
      "execution_count": null,
      "outputs": []
    },
    {
      "cell_type": "code",
      "source": "list=['Python','Machine Learning','Deep Learning']\ndict1 = {'language' : 'Python', 'course': 'Data Science Masters'}\ndict1.setdefault('topics',list)\nprint(dict1)",
      "metadata": {
        "trusted": true
      },
      "execution_count": 12,
      "outputs": [
        {
          "name": "stdout",
          "text": "{'language': 'Python', 'course': 'Data Science Masters', 'topics': ['Python', 'Machine Learning', 'Deep Learning']}\n",
          "output_type": "stream"
        }
      ]
    },
    {
      "cell_type": "code",
      "source": "Q8. What are the three view objects in dictionaries? Use the three in-built methods in python to display \nthese three view objects for the given dictionary.",
      "metadata": {},
      "execution_count": null,
      "outputs": []
    },
    {
      "cell_type": "code",
      "source": "the tree view objects of the pythor are,\n1)dictionary_name.keys()\n2)dictionary_name.values()\n3)dictionary_name.items()\n\n1)dictionary_name.keys():it return the list keys of the dictionary as dict_keys object.\n2)dictionary_name.values():it return the list values of the dictionary as dict_values object.\n1)dictionary_name.items()it return the tuple of list (key,values) of the dictionary as dict_items object.",
      "metadata": {},
      "execution_count": null,
      "outputs": []
    },
    {
      "cell_type": "code",
      "source": "dict1 = {'Sport': 'Cricket' , 'Teams': ['India', 'Australia', 'England', 'South Africa', 'Sri Lanka', 'New Zealand']}\nprint(dict1.keys())\nprint(dict1.values())\nprint(dict1.items())",
      "metadata": {
        "trusted": true
      },
      "execution_count": 14,
      "outputs": [
        {
          "name": "stdout",
          "text": "dict_keys(['Sport', 'Teams'])\ndict_values(['Cricket', ['India', 'Australia', 'England', 'South Africa', 'Sri Lanka', 'New Zealand']])\ndict_items([('Sport', 'Cricket'), ('Teams', ['India', 'Australia', 'England', 'South Africa', 'Sri Lanka', 'New Zealand'])])\n",
          "output_type": "stream"
        }
      ]
    }
  ]
}